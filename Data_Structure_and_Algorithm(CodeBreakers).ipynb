{
  "nbformat": 4,
  "nbformat_minor": 0,
  "metadata": {
    "kernelspec": {
      "display_name": "Python 3",
      "language": "python",
      "name": "python3"
    },
    "language_info": {
      "codemirror_mode": {
        "name": "ipython",
        "version": 3
      },
      "file_extension": ".py",
      "mimetype": "text/x-python",
      "name": "python",
      "nbconvert_exporter": "python",
      "pygments_lexer": "ipython3",
      "version": "3.7.5"
    },
    "colab": {
      "name": "Data Structure and Algorithm(CodeBreakers).ipynb",
      "provenance": []
    }
  },
  "cells": [
    {
      "cell_type": "code",
      "metadata": {
        "id": "VpHlAXKF5Jaa",
        "colab_type": "code",
        "colab": {},
        "outputId": "241835bd-4653-42aa-bedb-3fff8e6fd476"
      },
      "source": [
        "#Stack Implementation \n",
        "class Stack:\n",
        "    def __init__(self):\n",
        "        self.items=[]\n",
        "    def push(self,item):\n",
        "        self.items.append(item)\n",
        "    def pop(self):\n",
        "        self.items.pop()\n",
        "    def get_stack(self):\n",
        "        return self.items\n",
        "    def is_empty(self):\n",
        "        return self.items==[]\n",
        "    def peek(self):\n",
        "        if not self.is_empty():\n",
        "            return self.items[-1]\n",
        "mystack=Stack()\n",
        "mystack.push('A')\n",
        "mystack.push('B')\n",
        "print(mystack.get_stack())\n",
        "print(mystack.is_empty())\n",
        "print(mystack.peek())"
      ],
      "execution_count": null,
      "outputs": [
        {
          "output_type": "stream",
          "text": [
            "['A', 'B']\n",
            "False\n",
            "B\n"
          ],
          "name": "stdout"
        }
      ]
    },
    {
      "cell_type": "code",
      "metadata": {
        "id": "RRiMnAdh5Jal",
        "colab_type": "code",
        "colab": {},
        "outputId": "a7712791-c0a9-4fd4-f614-08667bccd5da"
      },
      "source": [
        "#Determine if Brackets are Balanced\n",
        "\n",
        "class Stack():\n",
        "    def __init__(self):\n",
        "        self.items = []\n",
        "\n",
        "    def push(self, item):\n",
        "        self.items.append(item)\n",
        "\n",
        "    def pop(self):\n",
        "        return self.items.pop()\n",
        "    \n",
        "    def is_empty(self):\n",
        "        return self.items == []\n",
        "    \n",
        "    def peek(self):\n",
        "        if not self.is_empty():\n",
        "            return self.items[-1]\n",
        "        \n",
        "    def get_stack(self):\n",
        "        return self.items\n",
        "    \n",
        "def is_match(p1, p2):\n",
        "    if p1 == \"(\" and p2 == \")\":\n",
        "        return True\n",
        "    elif p1 == \"{\" and p2 == \"}\":\n",
        "        return True\n",
        "    elif p1 == \"[\" and p2 == \"]\":\n",
        "        return True\n",
        "    else:\n",
        "        return False\n",
        "\n",
        "\n",
        "def is_paren_balanced(paren_string):\n",
        "    s = Stack()\n",
        "    is_balanced = True\n",
        "    index = 0\n",
        "\n",
        "    while index < len(paren_string) and is_balanced:\n",
        "        paren = paren_string[index]\n",
        "        if paren in \"({[\":\n",
        "            s.push(paren)\n",
        "        else:\n",
        "            if s.is_empty():\n",
        "                is_balanced = False\n",
        "            else:\n",
        "                top = s.pop()\n",
        "                if not is_match(top, paren):\n",
        "                    is_balanced = False\n",
        "        index += 1\n",
        "\n",
        "    if s.is_empty() and is_balanced:\n",
        "        return True\n",
        "    else:\n",
        "        return False\n",
        "\n",
        "print(\"String : (((({})))) Balanced or not?\")\n",
        "print(is_paren_balanced(\"(((({}))))\"))\n",
        "\n",
        "print(\"String : [][]]] Balanced or not?\")\n",
        "print(is_paren_balanced(\"[][]]]\"))\n",
        "\n",
        "print(\"String : [][] Balanced or not?\")\n",
        "print(is_paren_balanced(\"[][]\"))"
      ],
      "execution_count": null,
      "outputs": [
        {
          "output_type": "stream",
          "text": [
            "String : (((({})))) Balanced or not?\n",
            "False\n",
            "String : [][]]] Balanced or not?\n",
            "False\n",
            "String : [][] Balanced or not?\n",
            "False\n"
          ],
          "name": "stdout"
        }
      ]
    },
    {
      "cell_type": "code",
      "metadata": {
        "id": "KOyPAhDy5Jau",
        "colab_type": "code",
        "colab": {},
        "outputId": "a8906f8d-6e0d-4c35-bc6d-d5088919bf20"
      },
      "source": [
        "#Reverse string using stack\n",
        "class Stack():\n",
        "    def __init__(self):\n",
        "        self.items = []\n",
        "\n",
        "    def push(self, item):\n",
        "        self.items.append(item)\n",
        "\n",
        "    def pop(self):\n",
        "        return self.items.pop()\n",
        "    \n",
        "    def is_empty(self):\n",
        "        return self.items == []\n",
        "    \n",
        "    def peek(self):\n",
        "        if not self.is_empty():\n",
        "            return self.items[-1]\n",
        "        \n",
        "    def get_stack(self):\n",
        "        return self.items\n",
        "    \n",
        "def rev_string(stack,string):\n",
        "    for i in range(len(string)):\n",
        "        stack.push(string[i])\n",
        "        \n",
        "    rev=\"\"\n",
        "    while not stack.is_empty():\n",
        "        rev+=stack.pop()\n",
        "    return rev\n",
        "        \n",
        "stack=Stack()\n",
        "    \n",
        "string='Stupid'\n",
        "print(rev_string(stack,string))\n",
        "        "
      ],
      "execution_count": null,
      "outputs": [
        {
          "output_type": "stream",
          "text": [
            "diputS\n"
          ],
          "name": "stdout"
        }
      ]
    },
    {
      "cell_type": "code",
      "metadata": {
        "id": "GgL9HCbk5Ja1",
        "colab_type": "code",
        "colab": {},
        "outputId": "e55f9182-f553-4961-a1f9-519dcc02f24b"
      },
      "source": [
        "#Convert Decimal Integer to Binary\n",
        "\n",
        "class Stack():\n",
        "    def __init__(self):\n",
        "        self.items = []\n",
        "\n",
        "    def push(self, item):\n",
        "        self.items.append(item)\n",
        "\n",
        "    def pop(self):\n",
        "        return self.items.pop()\n",
        "    \n",
        "    def is_empty(self):\n",
        "        return self.items == []\n",
        "    \n",
        "    def peek(self):\n",
        "        if not self.is_empty():\n",
        "            return self.items[-1]\n",
        "        \n",
        "    def get_stack(self):\n",
        "        return self.items\n",
        "    \n",
        "def convert_to_dec(number):\n",
        "    s=Stack()\n",
        "    while number>0:\n",
        "        remainder=number%2\n",
        "        s.push(remainder)\n",
        "        number=number//2\n",
        "    dec=\"\"\n",
        "    while not s.is_empty():\n",
        "        dec+=str(s.pop())\n",
        "    return dec\n",
        "\n",
        "number=56\n",
        "print(convert_to_dec(number))\n",
        "    \n",
        "    "
      ],
      "execution_count": null,
      "outputs": [
        {
          "output_type": "stream",
          "text": [
            "111000\n"
          ],
          "name": "stdout"
        }
      ]
    },
    {
      "cell_type": "code",
      "metadata": {
        "id": "YSwIf1hV5Ja5",
        "colab_type": "code",
        "colab": {},
        "outputId": "9c18052a-f8b8-4b8f-a980-800b296165be"
      },
      "source": [
        "#linked list implementation \n",
        "class Node:\n",
        "  def __init__(self, data):\n",
        "    self.data = data\n",
        "    self.next = None\n",
        "\n",
        "class LinkedList:\n",
        "  def __init__(self):\n",
        "    self.head = None\n",
        "  \n",
        "  def print_list(self):\n",
        "    cur_node = self.head\n",
        "    while cur_node:\n",
        "      print(cur_node.data)\n",
        "      cur_node = cur_node.next\n",
        "\n",
        "  def append(self, data):\n",
        "    new_node = Node(data)\n",
        "    if self.head is None:\n",
        "      self.head = new_node\n",
        "      return\n",
        "    last_node = self.head\n",
        "    while last_node.next:\n",
        "      last_node = last_node.next#moving head pointer to right\n",
        "    last_node.next = new_node\n",
        "    \n",
        "  def prepend(self,data):  #putting node before existing node\n",
        "    new_node=Node(data)\n",
        "    new_node.next=self.head\n",
        "    self.head=new_node\n",
        "  \n",
        "llist = LinkedList()\n",
        "llist.append(\"A\")\n",
        "llist.append(\"B\")\n",
        "llist.append(\"C\")\n",
        "llist.append(\"D\")\n",
        "llist.prepend(\"E\")\n",
        "\n",
        "llist.print_list()  \n"
      ],
      "execution_count": null,
      "outputs": [
        {
          "output_type": "stream",
          "text": [
            "E\n",
            "A\n",
            "B\n",
            "C\n",
            "D\n"
          ],
          "name": "stdout"
        }
      ]
    },
    {
      "cell_type": "code",
      "metadata": {
        "id": "p4mU1P255Ja-",
        "colab_type": "code",
        "colab": {}
      },
      "source": [
        "#linked list delete by position \n",
        "#following code follows prvious code\n",
        "def del_pos(self,pos):\n",
        "    if self.head:\n",
        "        cur_node=self.head\n",
        "        \n",
        "        if self.head==0:\n",
        "            self.head=cur_node.next\n",
        "            cur_node=None\n",
        "            return\n",
        "        \n",
        "        prev=None\n",
        "        count=1\n",
        "        while cur_node and count!=pos:\n",
        "            "
      ],
      "execution_count": null,
      "outputs": []
    },
    {
      "cell_type": "code",
      "metadata": {
        "id": "9X0Ca83d5JbD",
        "colab_type": "code",
        "colab": {}
      },
      "source": [
        "#Singly Linked List\n",
        "class Node:\n",
        "    def __init__(self, data):\n",
        "        self.data = data\n",
        "        self.next_element = None\n",
        "\n",
        "class LinkedList:\n",
        "    def __init__(self):\n",
        "        self.head_node = None\n",
        "\n",
        "    # Insertion at Head\n",
        "    def insert_at_head(self, data):\n",
        "        # Create a new node containing your specified value\n",
        "        temp_node = Node(data)\n",
        "        # The new node points to the same node as the head\n",
        "        temp_node.next_element = self.head_node\n",
        "        self.head_node = temp_node  # Make the head point to the new node\n",
        "        return self.head_node  # return the new list\n",
        "\n",
        "    def is_empty(self):\n",
        "        if self.head_node is None:\n",
        "            return True\n",
        "        else:\n",
        "            return False\n",
        "\n",
        "\n",
        "lst = LinkedList()\n",
        "print(lst.is_empty())\n",
        "\n",
        "\n",
        "print(\"Inserting values in list\")\n",
        "for i in range(1, 10):\n",
        "    lst.insert_at_head(i)\n",
        "print(lst.insert_at_head(i))"
      ],
      "execution_count": null,
      "outputs": []
    },
    {
      "cell_type": "code",
      "metadata": {
        "id": "VopO7ijK5JbU",
        "colab_type": "code",
        "colab": {},
        "outputId": "907b5364-b14f-44b5-cb02-cbf8f31c3af0"
      },
      "source": [
        "class Node:\n",
        "    def __init__(self, data):\n",
        "        self.data = data\n",
        "        self.next_element = None\n",
        "class LinkedList:\n",
        "    def __init__(self):\n",
        "        self.head_node = None\n",
        "\n",
        "    def get_head(self):\n",
        "        return self.head_node\n",
        "\n",
        "    def is_empty(self):\n",
        "        if(self.head_node is None):  # Check whether the head is None\n",
        "            return True\n",
        "        else:\n",
        "            return False\n",
        "\n",
        "    \n",
        "\n",
        "    # Supplementary print function\n",
        "    def print_list(self):\n",
        "        if(self.is_empty()):\n",
        "            print(\"List is Empty\")\n",
        "            return False\n",
        "        temp = self.head_node\n",
        "        while temp.next_element is not None:\n",
        "            print(temp.data, end=\" -> \")\n",
        "            temp = temp.next_element\n",
        "        print(temp.data, \"-> None\")\n",
        "        return True\n",
        "    \n",
        "def insert_at_tail(lst, value):\n",
        "    # Creating a new node\n",
        "    new_node = Node(value)\n",
        "    \n",
        "    # Check if the list is empty, if it is simply point head to new node\n",
        "    if lst.get_head() is None:\n",
        "        lst.head_node = new_node\n",
        "        return\n",
        "\n",
        "    # if list not empty, traverse the list to the last node\n",
        "    temp = lst.get_head()\n",
        "\n",
        "    while temp.next_element:\n",
        "        temp = temp.next_element\n",
        "\n",
        "    # Set the nextElement of the previous node to new node\n",
        "    temp.next_element = new_node\n",
        "    return\n",
        "\n",
        "\n",
        "lst = LinkedList()\n",
        "lst.print_list()\n",
        "insert_at_tail(lst, 0)\n",
        "lst.print_list()\n",
        "insert_at_tail(lst, 1)\n",
        "lst.print_list()\n",
        "insert_at_tail(lst, 2)\n",
        "lst.print_list()\n",
        "insert_at_tail(lst, 3)\n",
        "lst.print_list()\n"
      ],
      "execution_count": null,
      "outputs": [
        {
          "output_type": "stream",
          "text": [
            "List is Empty\n",
            "0 -> None\n",
            "0 -> None\n",
            "0 -> None\n",
            "0 -> None\n"
          ],
          "name": "stdout"
        },
        {
          "output_type": "execute_result",
          "data": {
            "text/plain": [
              "True"
            ]
          },
          "metadata": {
            "tags": []
          },
          "execution_count": 21
        }
      ]
    },
    {
      "cell_type": "code",
      "metadata": {
        "id": "mIwCJRRl5JbZ",
        "colab_type": "code",
        "colab": {}
      },
      "source": [
        "#Binary Tree implementation\n",
        "class Node(object):\n",
        "    def __init__(self,value):\n",
        "        self.value=value\n",
        "        self.left=None\n",
        "        self.right=None\n",
        "class Binary_Tree(object):\n",
        "    def __init__(self,root):\n",
        "        self.root=Node(root)\n",
        "        \n",
        "tree=Binary_Tree(1)\n",
        "tree.root.left=Node(2)\n",
        "tree.root.right=Node(3)\n",
        "tree.root.left.left=Node(4)\n",
        "tree.root.left.right=Node(5)\n",
        "tree.root.right.left=Node(6)\n",
        "tree.root.right.right=Node(7)      "
      ],
      "execution_count": null,
      "outputs": []
    },
    {
      "cell_type": "code",
      "metadata": {
        "id": "Sv_dyIs85Jbe",
        "colab_type": "code",
        "colab": {},
        "outputId": "a85e8a1f-2495-47ff-98fe-8335f5afd4ff"
      },
      "source": [
        "#traversal algorithm (in-order,pre-order,post-order)\n",
        "class Node(object):\n",
        "    def __init__(self, value):\n",
        "        self.value = value\n",
        "        self.left = None\n",
        "        self.right = None\n",
        "\n",
        "\n",
        "class BinaryTree(object):\n",
        "    def __init__(self, root):\n",
        "        self.root = Node(root)\n",
        "\n",
        "    def print_tree(self, traversal_type):\n",
        "        if traversal_type == \"preorder\":\n",
        "            return self.preorder_print(tree.root, \"\")\n",
        "        elif traversal_type == \"inorder\":\n",
        "            return self.inorder_print(tree.root, \"\")\n",
        "        elif traversal_type == \"postorder\":\n",
        "            return self.postorder_print(tree.root, \"\")\n",
        "\n",
        "        else:\n",
        "            print(\"Traversal type \" + str(traversal_type) + \" is not supported.\")\n",
        "            return False\n",
        "\n",
        "    def preorder_print(self, start, traversal):\n",
        "        \"\"\"Root->Left->Right\"\"\"\n",
        "        if start:\n",
        "            traversal += (str(start.value) + \"-\")\n",
        "            traversal = self.preorder_print(start.left, traversal)\n",
        "            traversal = self.preorder_print(start.right, traversal)\n",
        "        return traversal\n",
        "\n",
        "    def inorder_print(self, start, traversal):\n",
        "        \"\"\"Left->Root->Right\"\"\"\n",
        "        if start:\n",
        "            traversal = self.inorder_print(start.left, traversal)\n",
        "            traversal += (str(start.value) + \"-\")\n",
        "            traversal = self.inorder_print(start.right, traversal)\n",
        "        return traversal\n",
        "\n",
        "    def postorder_print(self, start, traversal):\n",
        "        \"\"\"Left->Right->Root\"\"\"\n",
        "        if start:\n",
        "            traversal = self.postorder_print(start.left, traversal)\n",
        "            traversal = self.postorder_print(start.right, traversal)\n",
        "            traversal += (str(start.value) + \"-\")\n",
        "        return traversal\n",
        "\n",
        "# 1-2-4-5-3-6-7-\n",
        "# 4-2-5-1-6-3-7\n",
        "# 4-2-5-6-3-7-1\n",
        "#               1\n",
        "#           /       \\  \n",
        "#          2          3  \n",
        "#         /  \\      /   \\\n",
        "#        4    5     6   7 \n",
        "\n",
        "# Set up tree:\n",
        "tree = BinaryTree(1)\n",
        "tree.root.left = Node(2)\n",
        "tree.root.right = Node(3)\n",
        "tree.root.left.left = Node(4)\n",
        "print(tree.print_tree(\"preorder\"))"
      ],
      "execution_count": null,
      "outputs": [
        {
          "output_type": "stream",
          "text": [
            "1-2-4-3-\n"
          ],
          "name": "stdout"
        }
      ]
    },
    {
      "cell_type": "code",
      "metadata": {
        "id": "V-36WZfY5Jbh",
        "colab_type": "code",
        "colab": {}
      },
      "source": [
        "#lever order traverser in Tree\n"
      ],
      "execution_count": null,
      "outputs": []
    },
    {
      "cell_type": "code",
      "metadata": {
        "id": "r1DPeZ285Jbk",
        "colab_type": "code",
        "colab": {}
      },
      "source": [
        "#calculating size of tree\n",
        "def size(self):\n",
        "  if self.root is None:\n",
        "      return 0\n",
        "\n",
        "  stack = Stack()\n",
        "  stack.push(self.root)\n",
        "  size = 1\n",
        "  while stack:\n",
        "    node = stack.pop()\n",
        "    if node.left:\n",
        "      size += 1\n",
        "      stack.push(node.left)\n",
        "    if node.right:\n",
        "      size += 1\n",
        "      stack.push(node.right)\n",
        "  return size"
      ],
      "execution_count": null,
      "outputs": []
    },
    {
      "cell_type": "code",
      "metadata": {
        "id": "OBAazkqx5Jbm",
        "colab_type": "code",
        "colab": {}
      },
      "source": [
        ""
      ],
      "execution_count": null,
      "outputs": []
    }
  ]
}